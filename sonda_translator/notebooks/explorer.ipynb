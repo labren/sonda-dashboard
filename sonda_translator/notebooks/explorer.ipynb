{
 "cells": [
  {
   "cell_type": "code",
   "execution_count": null,
   "metadata": {},
   "outputs": [],
   "source": [
    "# Abra o arquivo json/arquivos_ftp.json e formate para dataframe\n",
    "import json\n",
    "import pandas as pd\n",
    "\n",
    "with open('json/arquivos_ftp.json') as f:\n",
    "    data = json.load(f)\n",
    "\n",
    "df = pd.DataFrame(data)\n"
   ]
  },
  {
   "cell_type": "code",
   "execution_count": null,
   "metadata": {},
   "outputs": [],
   "source": [
    "# Select all is_historico == False\n",
    "df[(df['is_historico'] == False) & (df['estacao'] == 'orn')]"
   ]
  },
  {
   "cell_type": "code",
   "execution_count": null,
   "metadata": {},
   "outputs": [],
   "source": [
    "!pip install duckdb"
   ]
  },
  {
   "cell_type": "code",
   "execution_count": null,
   "metadata": {},
   "outputs": [],
   "source": [
    "import duckdb"
   ]
  },
  {
   "cell_type": "code",
   "execution_count": null,
   "metadata": {},
   "outputs": [],
   "source": [
    "dados = \"ftp/restricted/coleta/spk/data/historico/2023/SPK_2023_001_a_241_RAD_01.dat\"\n",
    "data = duckdb.query(f\"\"\"\n",
    "        SELECT * \n",
    "        FROM read_csv_auto('{dados}',\n",
    "        ignore_errors=true)\n",
    "        LIMIT 10\n",
    "    \"\"\")\n",
    "data"
   ]
  },
  {
   "cell_type": "code",
   "execution_count": null,
   "metadata": {},
   "outputs": [],
   "source": [
    "dados = \"ftp/restricted/coleta/sjc/data/GUI_RAD_01.DAT\"\n",
    "data = duckdb.query(f\"\"\"\n",
    "        SELECT * \n",
    "        FROM read_csv_auto('{dados}',\n",
    "        ignore_errors=true)\n",
    "    \"\"\")\n",
    "data"
   ]
  },
  {
   "cell_type": "code",
   "execution_count": null,
   "metadata": {},
   "outputs": [],
   "source": [
    "data"
   ]
  },
  {
   "cell_type": "code",
   "execution_count": null,
   "metadata": {},
   "outputs": [],
   "source": [
    "import pandas as pd"
   ]
  },
  {
   "cell_type": "code",
   "execution_count": null,
   "metadata": {},
   "outputs": [],
   "source": [
    "data = data.iloc[3:]\n",
    "\n",
    "# Convert all columns to numeric\n",
    "data = data.apply(pd.to_numeric, errors='ignore')"
   ]
  },
  {
   "cell_type": "code",
   "execution_count": null,
   "metadata": {},
   "outputs": [],
   "source": [
    "# set timestamp as index\n",
    "data['TIMESTAMP'] = pd.to_datetime(data['TIMESTAMP'])\n",
    "data = data.set_index('TIMESTAMP')"
   ]
  },
  {
   "cell_type": "code",
   "execution_count": null,
   "metadata": {},
   "outputs": [],
   "source": [
    "data.columns"
   ]
  },
  {
   "cell_type": "code",
   "execution_count": null,
   "metadata": {},
   "outputs": [],
   "source": [
    "import matplotlib.pyplot as plt\n",
    "\n",
    "fig, axes = plt.subplots(2, 1, figsize=(10, 8), sharex=True)\n",
    "\n",
    "# Plot par_avg\n",
    "data['par_avg'].plot(ax=axes[0], title='PAR Average', color='blue')\n",
    "axes[0].set_ylabel('PAR Avg')\n",
    "\n",
    "# Plot lux_avg\n",
    "data['lux_avg'].plot(ax=axes[1], title='LUX Average', color='green')\n",
    "axes[1].set_ylabel('LUX Avg')\n",
    "axes[1].set_xlabel('Timestamp')\n",
    "\n",
    "plt.tight_layout()\n",
    "plt.show()"
   ]
  },
  {
   "cell_type": "code",
   "execution_count": 14,
   "metadata": {},
   "outputs": [],
   "source": [
    "import duckdb"
   ]
  },
  {
   "cell_type": "code",
   "execution_count": 15,
   "metadata": {},
   "outputs": [],
   "source": [
    "# Cria conexão com o banco de dados DuckDB\n",
    "con = duckdb.connect()"
   ]
  },
  {
   "cell_type": "code",
   "execution_count": 16,
   "metadata": {},
   "outputs": [],
   "source": [
    "base_dados = \"../output/sonda-banco-dados/Solarimetrica.parquet\""
   ]
  },
  {
   "cell_type": "code",
   "execution_count": 17,
   "metadata": {},
   "outputs": [
    {
     "data": {
      "text/html": [
       "<div>\n",
       "<style scoped>\n",
       "    .dataframe tbody tr th:only-of-type {\n",
       "        vertical-align: middle;\n",
       "    }\n",
       "\n",
       "    .dataframe tbody tr th {\n",
       "        vertical-align: top;\n",
       "    }\n",
       "\n",
       "    .dataframe thead th {\n",
       "        text-align: right;\n",
       "    }\n",
       "</style>\n",
       "<table border=\"1\" class=\"dataframe\">\n",
       "  <thead>\n",
       "    <tr style=\"text-align: right;\">\n",
       "      <th></th>\n",
       "      <th>acronym</th>\n",
       "      <th>timestamp</th>\n",
       "      <th>year</th>\n",
       "      <th>day</th>\n",
       "      <th>min</th>\n",
       "      <th>glo_avg</th>\n",
       "      <th>glo_std</th>\n",
       "      <th>glo_max</th>\n",
       "      <th>glo_min</th>\n",
       "      <th>dif_avg</th>\n",
       "      <th>...</th>\n",
       "      <th>dir_min</th>\n",
       "      <th>lw_avg</th>\n",
       "      <th>lw_std</th>\n",
       "      <th>lw_max</th>\n",
       "      <th>lw_min</th>\n",
       "      <th>temp_glo</th>\n",
       "      <th>temp_dir</th>\n",
       "      <th>temp_dif</th>\n",
       "      <th>temp_dome</th>\n",
       "      <th>temp_case</th>\n",
       "    </tr>\n",
       "  </thead>\n",
       "  <tbody>\n",
       "    <tr>\n",
       "      <th>0</th>\n",
       "      <td>SLZ</td>\n",
       "      <td>2013-09-14 22:59:00</td>\n",
       "      <td>2013</td>\n",
       "      <td>257</td>\n",
       "      <td>1379.0</td>\n",
       "      <td>-1.898</td>\n",
       "      <td>0.140</td>\n",
       "      <td>-1.305</td>\n",
       "      <td>-1.958</td>\n",
       "      <td>-1.292</td>\n",
       "      <td>...</td>\n",
       "      <td>NaN</td>\n",
       "      <td>NaN</td>\n",
       "      <td>NaN</td>\n",
       "      <td>NaN</td>\n",
       "      <td>NaN</td>\n",
       "      <td>0.0</td>\n",
       "      <td>0.0</td>\n",
       "      <td>0.0</td>\n",
       "      <td>0.0</td>\n",
       "      <td>0.0</td>\n",
       "    </tr>\n",
       "    <tr>\n",
       "      <th>1</th>\n",
       "      <td>SLZ</td>\n",
       "      <td>2013-09-15 05:01:00</td>\n",
       "      <td>2013</td>\n",
       "      <td>258</td>\n",
       "      <td>301.0</td>\n",
       "      <td>-1.632</td>\n",
       "      <td>0.223</td>\n",
       "      <td>-1.305</td>\n",
       "      <td>-1.958</td>\n",
       "      <td>-1.292</td>\n",
       "      <td>...</td>\n",
       "      <td>NaN</td>\n",
       "      <td>NaN</td>\n",
       "      <td>NaN</td>\n",
       "      <td>NaN</td>\n",
       "      <td>NaN</td>\n",
       "      <td>0.0</td>\n",
       "      <td>0.0</td>\n",
       "      <td>0.0</td>\n",
       "      <td>0.0</td>\n",
       "      <td>0.0</td>\n",
       "    </tr>\n",
       "    <tr>\n",
       "      <th>2</th>\n",
       "      <td>SLZ</td>\n",
       "      <td>2013-09-15 15:32:00</td>\n",
       "      <td>2013</td>\n",
       "      <td>258</td>\n",
       "      <td>932.0</td>\n",
       "      <td>865.000</td>\n",
       "      <td>305.300</td>\n",
       "      <td>1198.000</td>\n",
       "      <td>407.300</td>\n",
       "      <td>798.000</td>\n",
       "      <td>...</td>\n",
       "      <td>NaN</td>\n",
       "      <td>NaN</td>\n",
       "      <td>NaN</td>\n",
       "      <td>NaN</td>\n",
       "      <td>NaN</td>\n",
       "      <td>0.0</td>\n",
       "      <td>0.0</td>\n",
       "      <td>0.0</td>\n",
       "      <td>0.0</td>\n",
       "      <td>0.0</td>\n",
       "    </tr>\n",
       "    <tr>\n",
       "      <th>3</th>\n",
       "      <td>SLZ</td>\n",
       "      <td>2013-09-15 18:35:00</td>\n",
       "      <td>2013</td>\n",
       "      <td>258</td>\n",
       "      <td>1115.0</td>\n",
       "      <td>233.700</td>\n",
       "      <td>35.540</td>\n",
       "      <td>374.700</td>\n",
       "      <td>212.800</td>\n",
       "      <td>208.800</td>\n",
       "      <td>...</td>\n",
       "      <td>NaN</td>\n",
       "      <td>NaN</td>\n",
       "      <td>NaN</td>\n",
       "      <td>NaN</td>\n",
       "      <td>NaN</td>\n",
       "      <td>0.0</td>\n",
       "      <td>0.0</td>\n",
       "      <td>0.0</td>\n",
       "      <td>0.0</td>\n",
       "      <td>0.0</td>\n",
       "    </tr>\n",
       "    <tr>\n",
       "      <th>4</th>\n",
       "      <td>SLZ</td>\n",
       "      <td>2013-09-15 21:49:00</td>\n",
       "      <td>2013</td>\n",
       "      <td>258</td>\n",
       "      <td>1309.0</td>\n",
       "      <td>-1.398</td>\n",
       "      <td>0.147</td>\n",
       "      <td>-1.305</td>\n",
       "      <td>-1.632</td>\n",
       "      <td>-1.292</td>\n",
       "      <td>...</td>\n",
       "      <td>NaN</td>\n",
       "      <td>NaN</td>\n",
       "      <td>NaN</td>\n",
       "      <td>NaN</td>\n",
       "      <td>NaN</td>\n",
       "      <td>0.0</td>\n",
       "      <td>0.0</td>\n",
       "      <td>0.0</td>\n",
       "      <td>0.0</td>\n",
       "      <td>0.0</td>\n",
       "    </tr>\n",
       "  </tbody>\n",
       "</table>\n",
       "<p>5 rows × 34 columns</p>\n",
       "</div>"
      ],
      "text/plain": [
       "  acronym           timestamp  year  day     min  glo_avg  glo_std   glo_max  \\\n",
       "0     SLZ 2013-09-14 22:59:00  2013  257  1379.0   -1.898    0.140    -1.305   \n",
       "1     SLZ 2013-09-15 05:01:00  2013  258   301.0   -1.632    0.223    -1.305   \n",
       "2     SLZ 2013-09-15 15:32:00  2013  258   932.0  865.000  305.300  1198.000   \n",
       "3     SLZ 2013-09-15 18:35:00  2013  258  1115.0  233.700   35.540   374.700   \n",
       "4     SLZ 2013-09-15 21:49:00  2013  258  1309.0   -1.398    0.147    -1.305   \n",
       "\n",
       "   glo_min  dif_avg  ...  dir_min  lw_avg  lw_std  lw_max  lw_min  temp_glo  \\\n",
       "0   -1.958   -1.292  ...      NaN     NaN     NaN     NaN     NaN       0.0   \n",
       "1   -1.958   -1.292  ...      NaN     NaN     NaN     NaN     NaN       0.0   \n",
       "2  407.300  798.000  ...      NaN     NaN     NaN     NaN     NaN       0.0   \n",
       "3  212.800  208.800  ...      NaN     NaN     NaN     NaN     NaN       0.0   \n",
       "4   -1.632   -1.292  ...      NaN     NaN     NaN     NaN     NaN       0.0   \n",
       "\n",
       "   temp_dir  temp_dif  temp_dome  temp_case  \n",
       "0       0.0       0.0        0.0        0.0  \n",
       "1       0.0       0.0        0.0        0.0  \n",
       "2       0.0       0.0        0.0        0.0  \n",
       "3       0.0       0.0        0.0        0.0  \n",
       "4       0.0       0.0        0.0        0.0  \n",
       "\n",
       "[5 rows x 34 columns]"
      ]
     },
     "execution_count": 17,
     "metadata": {},
     "output_type": "execute_result"
    }
   ],
   "source": [
    "# Leia as 5 primeiras linhas do arquivo Parquet\n",
    "con.execute(f\"SELECT * FROM read_parquet('{base_dados}') LIMIT 5\").fetchdf()"
   ]
  }
 ],
 "metadata": {
  "kernelspec": {
   "display_name": "base",
   "language": "python",
   "name": "python3"
  },
  "language_info": {
   "codemirror_mode": {
    "name": "ipython",
    "version": 3
   },
   "file_extension": ".py",
   "mimetype": "text/x-python",
   "name": "python",
   "nbconvert_exporter": "python",
   "pygments_lexer": "ipython3",
   "version": "3.12.2"
  }
 },
 "nbformat": 4,
 "nbformat_minor": 2
}
